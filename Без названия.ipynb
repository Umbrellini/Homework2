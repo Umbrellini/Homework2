{
 "cells": [
  {
   "cell_type": "code",
   "execution_count": 2,
   "metadata": {},
   "outputs": [
    {
     "name": "stdout",
     "output_type": "stream",
     "text": [
      "по шкале от 0 до 10, напишите, насколько Вы устали: 4\n",
      "Вы средненько устали\n"
     ]
    }
   ],
   "source": [
    "##### определитель усталости\n",
    "\n",
    "a = float(input('по шкале от 0 до 10, напишите, насколько Вы устали: '))\n",
    "if a < 1:\n",
    "    print('Кажется, Вы совсем не устали')\n",
    "elif 1 <= a <= 5:\n",
    "    print('Вы средненько устали')\n",
    "# более тонкая настройка?\n",
    "else:\n",
    "    print('Скорее идите отдыхать!')\n"
   ]
  },
  {
   "cell_type": "code",
   "execution_count": null,
   "metadata": {},
   "outputs": [],
   "source": []
  }
 ],
 "metadata": {
  "kernelspec": {
   "display_name": "Python 3",
   "language": "python",
   "name": "python3"
  },
  "language_info": {
   "codemirror_mode": {
    "name": "ipython",
    "version": 3
   },
   "file_extension": ".py",
   "mimetype": "text/x-python",
   "name": "python",
   "nbconvert_exporter": "python",
   "pygments_lexer": "ipython3",
   "version": "3.9.0"
  }
 },
 "nbformat": 4,
 "nbformat_minor": 4
}
